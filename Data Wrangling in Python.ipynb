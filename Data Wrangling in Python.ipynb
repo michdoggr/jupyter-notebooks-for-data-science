{
 "cells": [
  {
   "attachments": {},
   "cell_type": "markdown",
   "metadata": {},
   "source": [
    "# Data Wrangling in Python\n",
    "    1. Importing a file and adding headers\n",
    "    2. Steps for working with missing data\n",
    "    3. Types of normalization\n",
    "    4. Binning\n",
    "    5. Create dummy values\n",
    "    6. Create a histogram"
   ]
  },
  {
   "cell_type": "code",
   "execution_count": 114,
   "metadata": {},
   "outputs": [],
   "source": [
    "# Import the packages we will need\n",
    "import pandas as pd\n",
    "import matplotlib as plt\n",
    "import numpy as np"
   ]
  },
  {
   "attachments": {},
   "cell_type": "markdown",
   "metadata": {},
   "source": [
    "### Importing a file and adding headers"
   ]
  },
  {
   "cell_type": "code",
   "execution_count": 115,
   "metadata": {},
   "outputs": [],
   "source": [
    "# Set path and name of file\n",
    "filename=\".\\data\\\\auto.csv\"\n",
    "# Set headers for the file\n",
    "headers = [\"symboling\",\"normalized-losses\",\"make\",\"fuel-type\",\"aspiration\", \"num-of-doors\",\"body-style\",\n",
    "         \"drive-wheels\",\"engine-location\",\"wheel-base\", \"length\",\"width\",\"height\",\"curb-weight\",\"engine-type\",\n",
    "         \"num-of-cylinders\", \"engine-size\",\"fuel-system\",\"bore\",\"stroke\",\"compression-ratio\",\"horsepower\",\n",
    "         \"peak-rpm\",\"city-mpg\",\"highway-mpg\",\"price\"]\n",
    "# Use pandas to import the file with the defined headers\n",
    "df = pd.read_csv(filename, names = headers)\n",
    "#df.head()"
   ]
  },
  {
   "attachments": {},
   "cell_type": "markdown",
   "metadata": {},
   "source": [
    "## Steps for working with missing data:\n",
    "\n",
    "    1. dentify missing data\n",
    "    2. Deal with missing data\n",
    "    3. Correct data format"
   ]
  },
  {
   "cell_type": "code",
   "execution_count": 116,
   "metadata": {},
   "outputs": [],
   "source": [
    "# Replace \"?\" with \"NaN\"\n",
    "df.replace(\"?\", np.nan, inplace = True)"
   ]
  },
  {
   "cell_type": "code",
   "execution_count": 117,
   "metadata": {},
   "outputs": [],
   "source": [
    "# Identify missing data with .isnull() and .notnull()\n",
    "missing_data = df.isnull()"
   ]
  },
  {
   "cell_type": "code",
   "execution_count": 118,
   "metadata": {},
   "outputs": [
    {
     "name": "stdout",
     "output_type": "stream",
     "text": [
      "symboling\n",
      "False    205\n",
      "Name: count, dtype: int64\n",
      "\n",
      "normalized-losses\n",
      "False    164\n",
      "True      41\n",
      "Name: count, dtype: int64\n",
      "\n",
      "make\n",
      "False    205\n",
      "Name: count, dtype: int64\n",
      "\n",
      "fuel-type\n",
      "False    205\n",
      "Name: count, dtype: int64\n",
      "\n",
      "aspiration\n",
      "False    205\n",
      "Name: count, dtype: int64\n",
      "\n",
      "num-of-doors\n",
      "False    203\n",
      "True       2\n",
      "Name: count, dtype: int64\n",
      "\n",
      "body-style\n",
      "False    205\n",
      "Name: count, dtype: int64\n",
      "\n",
      "drive-wheels\n",
      "False    205\n",
      "Name: count, dtype: int64\n",
      "\n",
      "engine-location\n",
      "False    205\n",
      "Name: count, dtype: int64\n",
      "\n",
      "wheel-base\n",
      "False    205\n",
      "Name: count, dtype: int64\n",
      "\n",
      "length\n",
      "False    205\n",
      "Name: count, dtype: int64\n",
      "\n",
      "width\n",
      "False    205\n",
      "Name: count, dtype: int64\n",
      "\n",
      "height\n",
      "False    205\n",
      "Name: count, dtype: int64\n",
      "\n",
      "curb-weight\n",
      "False    205\n",
      "Name: count, dtype: int64\n",
      "\n",
      "engine-type\n",
      "False    205\n",
      "Name: count, dtype: int64\n",
      "\n",
      "num-of-cylinders\n",
      "False    205\n",
      "Name: count, dtype: int64\n",
      "\n",
      "engine-size\n",
      "False    205\n",
      "Name: count, dtype: int64\n",
      "\n",
      "fuel-system\n",
      "False    205\n",
      "Name: count, dtype: int64\n",
      "\n",
      "bore\n",
      "False    201\n",
      "True       4\n",
      "Name: count, dtype: int64\n",
      "\n",
      "stroke\n",
      "False    201\n",
      "True       4\n",
      "Name: count, dtype: int64\n",
      "\n",
      "compression-ratio\n",
      "False    205\n",
      "Name: count, dtype: int64\n",
      "\n",
      "horsepower\n",
      "False    203\n",
      "True       2\n",
      "Name: count, dtype: int64\n",
      "\n",
      "peak-rpm\n",
      "False    203\n",
      "True       2\n",
      "Name: count, dtype: int64\n",
      "\n",
      "city-mpg\n",
      "False    205\n",
      "Name: count, dtype: int64\n",
      "\n",
      "highway-mpg\n",
      "False    205\n",
      "Name: count, dtype: int64\n",
      "\n",
      "price\n",
      "False    201\n",
      "True       4\n",
      "Name: count, dtype: int64\n",
      "\n"
     ]
    }
   ],
   "source": [
    "# Count the number of missing values in each column.  True => missing\n",
    "for column in missing_data.columns.values.tolist():\n",
    "    print (missing_data[column].value_counts())\n",
    "    print(\"\")   "
   ]
  },
  {
   "cell_type": "code",
   "execution_count": 119,
   "metadata": {},
   "outputs": [],
   "source": [
    "# How to replace missing values with the mean\n",
    "avg_norm_loss = df[\"normalized-losses\"].astype(\"float\").mean(axis=0)\n",
    "df[\"normalized-losses\"].replace(np.nan, avg_norm_loss, inplace=True)\n",
    "avg_horsepower = df['horsepower'].astype('float').mean(axis=0)\n",
    "df['horsepower'].replace(np.nan, avg_horsepower, inplace=True)"
   ]
  },
  {
   "cell_type": "code",
   "execution_count": 120,
   "metadata": {},
   "outputs": [],
   "source": [
    "# Find the most commonly occuring value in a column, and replace missing values with that\n",
    "df['num-of-doors'].value_counts().idxmax()\n",
    "df[\"num-of-doors\"].replace(np.nan, \"four\", inplace=True)"
   ]
  },
  {
   "cell_type": "code",
   "execution_count": 121,
   "metadata": {},
   "outputs": [],
   "source": [
    "# Drop all rows that don't have the target value, in this case price\n",
    "# simply drop whole row with NaN in \"price\" column\n",
    "df.dropna(subset=[\"price\"], axis=0, inplace=True)\n",
    "# reset index, because we droped two rows\n",
    "df.reset_index(drop=True, inplace=True)"
   ]
  },
  {
   "cell_type": "code",
   "execution_count": 122,
   "metadata": {},
   "outputs": [],
   "source": [
    "# Correct data types of columns\n",
    "df[[\"bore\", \"stroke\"]] = df[[\"bore\", \"stroke\"]].astype(\"float\")\n",
    "df[[\"normalized-losses\"]] = df[[\"normalized-losses\"]].astype(\"int\")\n",
    "df[[\"price\"]] = df[[\"price\"]].astype(\"float\")\n",
    "df[[\"peak-rpm\"]] = df[[\"peak-rpm\"]].astype(\"float\")"
   ]
  },
  {
   "cell_type": "code",
   "execution_count": 123,
   "metadata": {},
   "outputs": [],
   "source": [
    "# Values of data can be converted to other units like in this example, and then renamed\n",
    "df['city-L/100km'] = 235/df[\"city-mpg\"]\n",
    "df.rename(columns={'highway-mpg':'highway-L/100km'}, inplace=True)"
   ]
  },
  {
   "attachments": {},
   "cell_type": "markdown",
   "metadata": {},
   "source": [
    "## Types of normalization\n",
    "1. Simple feature scaling just divides each value by the maximum value\n",
    "2. Min-max: subtract min value for each value, divide by the max value minus min value\n",
    "3. Z-score method uses mean and standard deviation"
   ]
  },
  {
   "cell_type": "code",
   "execution_count": 124,
   "metadata": {},
   "outputs": [],
   "source": [
    "# Simple scaling\n",
    "df['height'] = df['height']/df['height'].max()\n",
    "# Min max scaling\n",
    "df['height'] = (df['height'] - df['height'].min())/(df['height'].max() - df['height'].min())\n"
   ]
  },
  {
   "attachments": {},
   "cell_type": "markdown",
   "metadata": {},
   "source": [
    "## Binning\n",
    "Binning is a process of transforming continuous numerical variables into discrete categorical 'bins' for grouped analysis."
   ]
  },
  {
   "cell_type": "code",
   "execution_count": 125,
   "metadata": {},
   "outputs": [
    {
     "data": {
      "text/plain": [
       "horsepower-binned\n",
       "Low       153\n",
       "Medium     43\n",
       "High        5\n",
       "Name: count, dtype: int64"
      ]
     },
     "execution_count": 125,
     "metadata": {},
     "output_type": "execute_result"
    }
   ],
   "source": [
    "# convert to int first\n",
    "df[\"horsepower\"]=df[\"horsepower\"].astype(int, copy=True)\n",
    "# use numpy linspace to create an array of bin values.  The bin values are separated by the same amount\n",
    "bins = np.linspace(min(df[\"horsepower\"]), max(df[\"horsepower\"]), 4)\n",
    "# set the names of each bin\n",
    "group_names = ['Low', 'Medium', 'High']\n",
    "# use cut to determine what bin each value belongs in and add to a data frame\n",
    "df['horsepower-binned'] = pd.cut(df['horsepower'], bins, labels=group_names, include_lowest=True )\n",
    "# to see the number of rows in each bin\n",
    "df[\"horsepower-binned\"].value_counts()"
   ]
  },
  {
   "attachments": {},
   "cell_type": "markdown",
   "metadata": {},
   "source": [
    "## Indicator Variable (or Dummy Variable)\n",
    "Set a dummy variable based on a text value of a column"
   ]
  },
  {
   "cell_type": "code",
   "execution_count": 126,
   "metadata": {},
   "outputs": [],
   "source": [
    "# Create dummy variables for fuel type\n",
    "dummy_variable_1 = pd.get_dummies(df[\"fuel-type\"])\n",
    "# rename columns to a better name\n",
    "dummy_variable_1.rename(columns={'gas':'fuel-type-gas', 'diesel':'fuel-type-diesel'}, inplace=True)\n",
    "# merge dummy variables back into main data frame\n",
    "df = pd.concat([df, dummy_variable_1], axis=1)\n",
    "# then drop original column \"fuel-type\" from \"df\"\n",
    "df.drop(\"fuel-type\", axis = 1, inplace=True)"
   ]
  },
  {
   "attachments": {},
   "cell_type": "markdown",
   "metadata": {},
   "source": [
    "## Create a histogram of horse power bins"
   ]
  },
  {
   "cell_type": "code",
   "execution_count": 127,
   "metadata": {},
   "outputs": [
    {
     "data": {
      "text/plain": [
       "Text(0.5, 1.0, 'horsepower bins')"
      ]
     },
     "execution_count": 127,
     "metadata": {},
     "output_type": "execute_result"
    },
    {
     "data": {
      "image/png": "[encoded data removed]",
      "text/plain": [
       "<Figure size 640x480 with 1 Axes>"
      ]
     },
     "metadata": {},
     "output_type": "display_data"
    }
   ],
   "source": [
    "plt.pyplot.bar(group_names, df[\"horsepower-binned\"].value_counts())\n",
    "\n",
    "# set x/y labels and plot title\n",
    "plt.pyplot.xlabel(\"horsepower\")\n",
    "plt.pyplot.ylabel(\"count\")\n",
    "plt.pyplot.title(\"horsepower bins\")"
   ]
  }
 ],
 "metadata": {
  "kernelspec": {
   "display_name": "Python 3",
   "language": "python",
   "name": "python3"
  },
  "language_info": {
   "codemirror_mode": {
    "name": "ipython",
    "version": 3
   },
   "file_extension": ".py",
   "mimetype": "text/x-python",
   "name": "python",
   "nbconvert_exporter": "python",
   "pygments_lexer": "ipython3",
   "version": "3.11.1"
  },
  "orig_nbformat": 4
 },
 "nbformat": 4,
 "nbformat_minor": 2
}
