{
 "cells": [
  {
   "attachments": {},
   "cell_type": "markdown",
   "metadata": {},
   "source": [
    "# Importing Datasets"
   ]
  },
  {
   "cell_type": "code",
   "execution_count": 1,
   "metadata": {},
   "outputs": [],
   "source": [
    "# Import needed packages\n",
    "import pandas as pd\n",
    "import numpy as np"
   ]
  },
  {
   "cell_type": "code",
   "execution_count": null,
   "metadata": {},
   "outputs": [],
   "source": [
    "# Set file path and import into a data frame\n",
    "path = '.\\data\\imports-85.csv'\n",
    "df = pd.read_csv(path, header=None)\n",
    "# show the first 5 rows using dataframe.head() method\n",
    "print(\"The first 5 rows of the dataframe\") \n",
    "#df.head(5)"
   ]
  },
  {
   "cell_type": "code",
   "execution_count": null,
   "metadata": {},
   "outputs": [],
   "source": [
    "# create headers list and set as column names\n",
    "headers = [\"symboling\",\"normalized-losses\",\"make\",\"fuel-type\",\"aspiration\", \"num-of-doors\",\"body-style\",\n",
    "         \"drive-wheels\",\"engine-location\",\"wheel-base\", \"length\",\"width\",\"height\",\"curb-weight\",\"engine-type\",\n",
    "         \"num-of-cylinders\", \"engine-size\",\"fuel-system\",\"bore\",\"stroke\",\"compression-ratio\",\"horsepower\",\n",
    "         \"peak-rpm\",\"city-mpg\",\"highway-mpg\",\"price\"]\n",
    "df.columns = headers\n",
    "#df.head(10)"
   ]
  },
  {
   "cell_type": "code",
   "execution_count": null,
   "metadata": {},
   "outputs": [],
   "source": [
    "# Replace missing values signified by \"?\" with \"NaN\" meaning \"Not a number\", then drop any rows missing a price\n",
    "df1=df.replace('?',np.NaN)\n",
    "df=df1.dropna(subset=[\"price\"], axis=0)\n",
    "#df.head(20)"
   ]
  },
  {
   "cell_type": "code",
   "execution_count": null,
   "metadata": {},
   "outputs": [],
   "source": [
    "# list the names of the columns in the data frame\n",
    "df.columns"
   ]
  },
  {
   "cell_type": "code",
   "execution_count": 9,
   "metadata": {},
   "outputs": [],
   "source": [
    "# Save the modified csv file to a new file name\n",
    "df.to_csv(\".\\data\\\\automobile.csv\", index=False)\n",
    "\n",
    "'''' How to read and save to other formats\n",
    "    Data Format\t    Read\t        Save\n",
    "    csv\t            pd.read_csv()\tdf.to_csv()\n",
    "    json\t        pd.read_json()\tdf.to_json()\n",
    "    excel\t        pd.read_excel()\tdf.to_excel()\n",
    "    hdf\t            pd.read_hdf()\tdf.to_hdf()\n",
    "    sql\t            pd.read_sql()\tdf.to_sql()'''"
   ]
  },
  {
   "cell_type": "code",
   "execution_count": null,
   "metadata": {},
   "outputs": [],
   "source": [
    "# Methods used to obtain information about the data frame\n",
    "df.dtypes       # shows the data types of each column\n",
    "df.describe()   # lists basics stat data like count, mean std, min, max, 25%ile, 50%ile, and 75%ile\n",
    "df.describe(include = \"all\")    # includes informat about non-numeric data types also\n",
    "df[['length','compression-ratio']].describe()   # to include only certain columns in the describe\n",
    "df.info()       # lists columns, non-null counts, types, and memory usage"
   ]
  }
 ],
 "metadata": {
  "kernelspec": {
   "display_name": "Python 3",
   "language": "python",
   "name": "python3"
  },
  "language_info": {
   "codemirror_mode": {
    "name": "ipython",
    "version": 3
   },
   "file_extension": ".py",
   "mimetype": "text/x-python",
   "name": "python",
   "nbconvert_exporter": "python",
   "pygments_lexer": "ipython3",
   "version": "3.11.1"
  },
  "orig_nbformat": 4
 },
 "nbformat": 4,
 "nbformat_minor": 2
}
